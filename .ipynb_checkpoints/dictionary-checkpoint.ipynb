{
 "cells": [
  {
   "cell_type": "code",
   "execution_count": 2,
   "metadata": {},
   "outputs": [
    {
     "name": "stdout",
     "output_type": "stream",
     "text": [
      "Enter the word :USA\n",
      "A country and federal republic in North America located north of Mexico and south of Canada, including Alaska, Hawaii and overseas territories.\n"
     ]
    }
   ],
   "source": [
    "import json\n",
    "from difflib import get_close_matches\n",
    "data = json.load(open(\"data.json\"))\n",
    "def meaning(word):\n",
    "    if(word in data):\n",
    "        return data[word]\n",
    "    elif (word.title() in data):\n",
    "        return data[word.title()]\n",
    "    elif word.upper() in data:\n",
    "        return data[word.upper()]\n",
    "    else:\n",
    "        if len(get_close_matches(word,data.keys(),n=2,cutoff=0.8))>0:\n",
    "            response= input(\"do u mean %s instead?Enter the word again or exit : \"%get_close_matches(word,data.keys(),n=2,cutoff=0.8))\n",
    "            if(response != 'no'):\n",
    "                return data[response]\n",
    "            else:\n",
    "                return 'Sorry, you did not enter the word'\n",
    "        else:\n",
    "            return \"Word doesn't exist, please check again\"\n",
    "        \n",
    "def input_str():\n",
    "    word=input(\"Enter the word :\").lower()\n",
    "    output=meaning(word)\n",
    "    if type(output)==list:\n",
    "        for i in output:\n",
    "            print(i)\n",
    "    else:\n",
    "        print(output)\n",
    "input_str()"
   ]
  },
  {
   "cell_type": "code",
   "execution_count": null,
   "metadata": {},
   "outputs": [],
   "source": []
  }
 ],
 "metadata": {
  "kernelspec": {
   "display_name": "Python 3",
   "language": "python",
   "name": "python3"
  },
  "language_info": {
   "codemirror_mode": {
    "name": "ipython",
    "version": 3
   },
   "file_extension": ".py",
   "mimetype": "text/x-python",
   "name": "python",
   "nbconvert_exporter": "python",
   "pygments_lexer": "ipython3",
   "version": "3.6.4"
  }
 },
 "nbformat": 4,
 "nbformat_minor": 2
}
