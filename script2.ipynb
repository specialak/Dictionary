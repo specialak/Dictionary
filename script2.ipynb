{
 "cells": [
  {
   "cell_type": "code",
   "execution_count": 2,
   "metadata": {
    "collapsed": true
   },
   "outputs": [],
   "source": [
    "import bs4"
   ]
  },
  {
   "cell_type": "code",
   "execution_count": 3,
   "metadata": {
    "collapsed": true
   },
   "outputs": [],
   "source": [
    "from bs4 import BeautifulSoup"
   ]
  },
  {
   "cell_type": "code",
   "execution_count": 4,
   "metadata": {
    "collapsed": true
   },
   "outputs": [],
   "source": [
    "import requests"
   ]
  },
  {
   "cell_type": "code",
   "execution_count": 14,
   "metadata": {},
   "outputs": [
    {
     "name": "stdout",
     "output_type": "stream",
     "text": [
      "Definition: The Indian Space Research Organization (ISRO) is the pioneer space exploration agency of the Government of India, headquartered at Bengaluru.\n"
     ]
    }
   ],
   "source": [
    "word= \"isro\"\n",
    "url= 'https://www.google.co.in/search?q=define%20' +word+ '#cns=1'\n",
    "response = requests.get(url, headers={\"user-agent\":\"Mozilla/5.0(Macintosh; Intel Mac OS X 10.12; rv:49.0) Gecko/20100101 Firefox/49.0\"})\n",
    "\n",
    "html= response.content\n",
    "final_soup = BeautifulSoup(html,\"html5lib\")\n",
    "example =final_soup.find('div',{'class':'bkWMgd'}).find('div',{'class':'ifM9O'}).find('div',{'class':'qtR3Y'}).find('span').text\n",
    "if(type(example)!='non'):\n",
    "    print(example)\n",
    "else:\n",
    "    print('vds')"
   ]
  },
  {
   "cell_type": "code",
   "execution_count": 22,
   "metadata": {},
   "outputs": [
    {
     "data": {
      "text/plain": [
       "str"
      ]
     },
     "execution_count": 22,
     "metadata": {},
     "output_type": "execute_result"
    }
   ],
   "source": [
    "df = 'dsff'\n",
    "type(df)"
   ]
  },
  {
   "cell_type": "code",
   "execution_count": null,
   "metadata": {
    "collapsed": true
   },
   "outputs": [],
   "source": [
    "example =final_soup.find('div',{'class':'g knavi obcontainer mod'}).findAll('div',{'class':'lr_dct_ent vmod'})[0].find('div',{'class':'PNlCoe'}).find('span').text"
   ]
  }
 ],
 "metadata": {
  "kernelspec": {
   "display_name": "Python 2",
   "language": "python",
   "name": "python2"
  },
  "language_info": {
   "codemirror_mode": {
    "name": "ipython",
    "version": 2
   },
   "file_extension": ".py",
   "mimetype": "text/x-python",
   "name": "python",
   "nbconvert_exporter": "python",
   "pygments_lexer": "ipython2",
   "version": "2.7.13"
  }
 },
 "nbformat": 4,
 "nbformat_minor": 2
}
